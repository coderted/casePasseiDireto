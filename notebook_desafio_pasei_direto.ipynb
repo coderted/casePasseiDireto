{
 "cells": [
  {
   "cell_type": "code",
   "execution_count": 1,
   "metadata": {},
   "outputs": [],
   "source": [
    "import pyspark\n",
    "from pyspark import SparkConf\n",
    "from pyspark.sql import SparkSession\n",
    "from pyspark.context import SparkContext\n",
    "from pyspark.sql.types import * \n",
    "from pyspark.sql.functions import *\n",
    "import datetime\n",
    "from pytz import timezone\n",
    "from pyspark.sql.window import *"
   ]
  },
  {
   "cell_type": "code",
   "execution_count": 2,
   "metadata": {},
   "outputs": [
    {
     "data": {
      "text/plain": [
       "'20210110'"
      ]
     },
     "execution_count": 2,
     "metadata": {},
     "output_type": "execute_result"
    }
   ],
   "source": [
    "#current_date = (datetime.datetime.now().strftime(\"%Y%m%d\")) \n",
    "current_date = '20210110'\n",
    "current_date"
   ]
  },
  {
   "cell_type": "code",
   "execution_count": 3,
   "metadata": {},
   "outputs": [],
   "source": [
    "#spark = SparkSession \\\n",
    "#    .builder \\\n",
    "#    .appName(\"Desafio Passei Direto\") \\\n",
    "#    .getOrCreate()\n",
    "\n",
    "spark = pyspark.sql.SparkSession.builder.appName(\"Desafio Passei Direto\") \\\n",
    "    .config(\"spark.jars.packages\", \"io.delta:delta-core_2.12:0.7.0\") \\\n",
    "    .config(\"spark.sql.extensions\", \"io.delta.sql.DeltaSparkSessionExtension\") \\\n",
    "    .config(\"spark.sql.catalog.spark_catalog\", \"org.apache.spark.sql.delta.catalog.DeltaCatalog\") \\\n",
    "    .getOrCreate()\n",
    "\n",
    "from delta.tables import *"
   ]
  },
  {
   "cell_type": "code",
   "execution_count": 4,
   "metadata": {},
   "outputs": [],
   "source": [
    "pathJsonCourse = \"./RAW_DATA/COUSERS/COURSES_DT=\"\n",
    "\n",
    "pathJsonSession = \"./RAW_DATA/SESSIONS/SESSIONS_DT=\"\n",
    "\n",
    "pathJsonStudentFSub = \"./RAW_DATA/STUDENT_FOLLOW_SUBJECT/STUDENT_FOLLOW_SUBJECT_DT=\"\n",
    "\n",
    "pathJsonStudent = \"./RAW_DATA/STUDENTS/STUDENTS_DT=\"\n",
    "\n",
    "pathJsonSubjects = \"./RAW_DATA/SUBJECTS/SUBJECTS_DT=\"\n",
    "\n",
    "pathJsonSubscrip = \"./RAW_DATA/SUBSCRIPTIONS/SUBSCRIPTIONS_DT=\"\n",
    "\n",
    "pathJsonUniversities = \"./RAW_DATA/UNIVERSITIES/UNIVERSITIES_DT=\""
   ]
  },
  {
   "cell_type": "code",
   "execution_count": 5,
   "metadata": {},
   "outputs": [],
   "source": [
    "parquetCourses = './REFINING_DATA/PARQUET/COUSERS/COURSES_DT='\n",
    "\n",
    "parquetSession = './REFINING_DATA/PARQUET/SESSION/SESSION_DT='\n",
    "\n",
    "parquetStudentFSub = './REFINING_DATA/PARQUET/STUDENT_FOLLOW_SUBJECT/STUDENT_FOLLOW_SUBJECT_DT='\n",
    "\n",
    "parquetStudent = './REFINING_DATA/PARQUET/STUDENTS/STUDENTS_DT='\n",
    "\n",
    "parquetSubjects = './REFINING_DATA/PARQUET/SUBJECTS/SUBJECTS_DT='\n",
    "\n",
    "parquetSubscrip = './REFINING_DATA/PARQUET/SUBSCRIPTIONS/SUBSCRIPTIONS_DT='\n",
    "\n",
    "parquetUniversities = './REFINING_DATA/PARQUET/UNIVERSITIES/UNIVERSITIES_DT='"
   ]
  },
  {
   "cell_type": "code",
   "execution_count": 6,
   "metadata": {},
   "outputs": [],
   "source": [
    "deltaBronzeCourses = './REFINING_DATA/DELTA/BRONZE/COUSERS/COURSES_DT='\n",
    "\n",
    "deltaBronzeSession = './REFINING_DATA/DELTA/BRONZE/SESSION/SESSION_DT='\n",
    "\n",
    "deltaBronzeStudentFSub = './REFINING_DATA/DELTA/BRONZE/STUDENT_FOLLOW_SUBJECT/STUDENT_FOLLOW_SUBJECT_DT='\n",
    "\n",
    "deltaBronzeStudent = './REFINING_DATA/DELTA/BRONZE/STUDENTS/STUDENTS_DT='\n",
    "\n",
    "deltaBronzeSubjects = './REFINING_DATA/DELTA/BRONZE/SUBJECTS/SUBJECTS_DT='\n",
    "\n",
    "deltaBronzeSubscrip = './REFINING_DATA/DELTA/BRONZE/SUBSCRIPTIONS/SUBSCRIPTIONS_DT='\n",
    "\n",
    "deltaBronzeUniversities = './REFINING_DATA/DELTA/BRONZE/UNIVERSITIES/UNIVERSITIES_DT='"
   ]
  },
  {
   "cell_type": "code",
   "execution_count": 7,
   "metadata": {},
   "outputs": [],
   "source": [
    "deltaSilverCourses = './REFINING_DATA/DELTA/SILVER/COUSERS/COURSES_DT='\n",
    "\n",
    "deltaSilverSession = './REFINING_DATA/DELTA/SILVER/SESSION/SESSION_DT='\n",
    "\n",
    "deltaSilverStudentFSub = './REFINING_DATA/DELTA/SILVER/STUDENT_FOLLOW_SUBJECT/STUDENT_FOLLOW_SUBJECT_DT='\n",
    "\n",
    "deltaSilverStudent = './REFINING_DATA/DELTA/SILVER/STUDENTS/STUDENTS_DT='\n",
    "\n",
    "deltaSilverSubjects = './REFINING_DATA/DELTA/SILVER/SUBJECTS/SUBJECTS_DT='\n",
    "\n",
    "deltaSilverSubscrip = './REFINING_DATA/DELTA/SILVER/SUBSCRIPTIONS/SUBSCRIPTIONS_DT='\n",
    "\n",
    "deltaSilverUniversities = './REFINING_DATA/DELTA/SILVER/UNIVERSITIES/UNIVERSITIES_DT='"
   ]
  },
  {
   "cell_type": "code",
   "execution_count": 8,
   "metadata": {},
   "outputs": [],
   "source": [
    "pathGoldReview = './REFINING_DATA/DELTA/GOLD/GOLD_REVIEW_DT='"
   ]
  },
  {
   "cell_type": "markdown",
   "metadata": {},
   "source": [
    "# Carregando Dataframe RawData Json"
   ]
  },
  {
   "cell_type": "code",
   "execution_count": 9,
   "metadata": {},
   "outputs": [],
   "source": [
    "dfCourses = spark.read.json(pathJsonCourse+current_date)\n",
    "\n",
    "dfSession = spark.read.json(pathJsonSession+current_date)\n",
    "\n",
    "dfStudentFSub = spark.read.json(pathJsonStudentFSub+current_date)\n",
    "\n",
    "dfStudent = spark.read.json(pathJsonStudent+current_date)\n",
    "\n",
    "dfSubjects = spark.read.json(pathJsonSubjects+current_date)\n",
    "\n",
    "dfSubscrip = spark.read.json(pathJsonSubscrip+current_date)\n",
    "\n",
    "dfUniversities = spark.read.json(pathJsonUniversities+current_date)\n"
   ]
  },
  {
   "cell_type": "markdown",
   "metadata": {},
   "source": [
    "# Conversão para Parquet"
   ]
  },
  {
   "cell_type": "code",
   "execution_count": 10,
   "metadata": {},
   "outputs": [],
   "source": [
    "dfCourses.write.mode(\"overwrite\").parquet(parquetCourses+current_date)\n",
    "\n",
    "dfSession.write.mode(\"overwrite\").parquet(parquetSession+current_date)\n",
    "\n",
    "dfStudentFSub.write.mode(\"overwrite\").parquet(parquetStudentFSub+current_date)\n",
    "\n",
    "dfStudent.write.mode(\"overwrite\").parquet(parquetStudent+current_date)\n",
    "\n",
    "dfSubjects.write.mode(\"overwrite\").parquet(parquetSubjects+current_date)\n",
    "\n",
    "dfSubscrip.write.mode(\"overwrite\").parquet(parquetSubscrip+current_date)\n",
    "\n",
    "dfUniversities.write.mode(\"overwrite\").parquet(parquetUniversities+current_date)"
   ]
  },
  {
   "cell_type": "markdown",
   "metadata": {},
   "source": [
    "# Carregando dataframe com arquivo em Parquet"
   ]
  },
  {
   "cell_type": "code",
   "execution_count": 11,
   "metadata": {},
   "outputs": [],
   "source": [
    "dfCoursesPaquet = spark.read.parquet(parquetCourses+current_date)\n",
    "\n",
    "dfSessionPaquet = spark.read.parquet(parquetSession+current_date)\n",
    "\n",
    "dfStudentFSubPaquet = spark.read.parquet(parquetStudentFSub+current_date)\n",
    "\n",
    "dfStudentPaquet = spark.read.parquet(parquetStudent+current_date)\n",
    "\n",
    "dfSubjectsPaquet = spark.read.parquet(parquetSubjects+current_date)\n",
    "\n",
    "dfSubscripPaquet = spark.read.parquet(parquetSubscrip+current_date)\n",
    "\n",
    "dfUniversitiesPaquet = spark.read.parquet(parquetUniversities+current_date)\n"
   ]
  },
  {
   "cell_type": "markdown",
   "metadata": {},
   "source": [
    "# Transformando em DeltaLake primeira camada Bronze"
   ]
  },
  {
   "cell_type": "code",
   "execution_count": 12,
   "metadata": {},
   "outputs": [],
   "source": [
    "dfCoursesPaquet.write.mode(\"overwrite\").format(\"delta\").save(deltaBronzeCourses+current_date)\n",
    "\n",
    "dfSessionPaquet.write.mode(\"overwrite\").format(\"delta\").save(deltaBronzeSession+current_date)\n",
    "\n",
    "dfStudentFSubPaquet.write.mode(\"overwrite\").format(\"delta\").save(deltaBronzeStudentFSub+current_date)\n",
    "\n",
    "dfStudentPaquet.write.mode(\"overwrite\").format(\"delta\").save(deltaBronzeStudent+current_date)\n",
    "\n",
    "dfSubjectsPaquet.write.mode(\"overwrite\").format(\"delta\").save(deltaBronzeSubjects+current_date)\n",
    "\n",
    "dfSubscripPaquet.write.mode(\"overwrite\").format(\"delta\").save(deltaBronzeSubscrip+current_date)\n",
    "\n",
    "dfUniversitiesPaquet.write.mode(\"overwrite\").format(\"delta\").save(deltaBronzeUniversities+current_date)"
   ]
  },
  {
   "cell_type": "markdown",
   "metadata": {},
   "source": [
    "# Lendo Delta Bronze / Preparando a camada Silver "
   ]
  },
  {
   "cell_type": "code",
   "execution_count": 13,
   "metadata": {},
   "outputs": [],
   "source": [
    "dfCoursesBronze = spark.read.format(\"delta\").load(deltaBronzeCourses+current_date)\n",
    "\n",
    "dfSessionBronze = spark.read.format(\"delta\").load(deltaBronzeSession+current_date)\n",
    "\n",
    "dfStudentFSubBronze = spark.read.format(\"delta\").load(deltaBronzeStudentFSub+current_date)\n",
    "\n",
    "dfStudentBronze = spark.read.format(\"delta\").load(deltaBronzeStudent+current_date)\n",
    "\n",
    "dfSubjectsBronze = spark.read.format(\"delta\").load(deltaBronzeSubjects+current_date)\n",
    "\n",
    "dfSubscripBronze = spark.read.format(\"delta\").load(deltaBronzeSubscrip+current_date)\n",
    "\n",
    "dfUniversitiesBronze = spark.read.format(\"delta\").load(deltaBronzeUniversities+current_date)"
   ]
  },
  {
   "cell_type": "markdown",
   "metadata": {},
   "source": [
    "# Tratando realizando tratamento de linhas duplicadas"
   ]
  },
  {
   "cell_type": "code",
   "execution_count": 14,
   "metadata": {},
   "outputs": [],
   "source": [
    "dfCoursesSilver = dfCoursesBronze.withColumn(\"row_num\", row_number().over(Window.partitionBy(\"Name\").orderBy((\"Name\")))).filter(col(\"row_num\")==1).drop(\"row_num\")\n",
    "\n",
    "dfSessionSilver = dfSessionBronze.withColumn(\"row_num\", row_number().over(Window.partitionBy(\"SessionStartTime\", \"StudentClient\", \"StudentId\").orderBy((\"StudentId\")))).filter(col(\"row_num\")==1).drop(\"row_num\")\n",
    "\n",
    "dfStudentFSubSilver = dfStudentFSubBronze.withColumn(\"row_num\", row_number().over(Window.partitionBy(\"FollowDate\", \"FollowDate\", \"SubjectId\").orderBy((\"StudentId\")))).filter(col(\"row_num\")==1).drop(\"row_num\")\n",
    "\n",
    "dfStudentSilver = dfStudentBronze.withColumn(\"row_num\", row_number().over(Window.partitionBy(\"id\").orderBy((\"Id\")))).filter(col(\"row_num\")==1).drop(\"row_num\")\n",
    "\n",
    "dfSubjectsSilver = dfSubjectsBronze.withColumn(\"row_num\", row_number().over(Window.partitionBy(\"Name\").orderBy((\"Name\")))).filter(col(\"row_num\")==1).drop(\"row_num\")\n",
    "\n",
    "dfSubscripSilver = dfSubscripBronze.withColumn(\"row_num\", row_number().over(Window.partitionBy(\"PaymentDate\", \"PlanType\", \"StudentId\").orderBy((\"StudentId\")))).filter(col(\"row_num\")==1).drop(\"row_num\")\n",
    "\n",
    "dfUniversitiesSilver = dfUniversitiesBronze.withColumn(\"row_num\", row_number().over(Window.partitionBy(\"Name\").orderBy((\"Name\")))).filter(col(\"row_num\")==1).drop(\"row_num\")"
   ]
  },
  {
   "cell_type": "markdown",
   "metadata": {},
   "source": [
    "# Dicionando uma nova coluna com a data de inserção"
   ]
  },
  {
   "cell_type": "code",
   "execution_count": 15,
   "metadata": {},
   "outputs": [],
   "source": [
    "dfCoursesSilver = dfCoursesSilver.withColumn('UPDATE_D_TIME',lit(datetime.datetime.now().astimezone(timezone('Etc/GMT+3')).strftime('%Y-%m-%d %H:%M:%S.%f')).cast(\"timestamp\"))\n",
    "\n",
    "dfSessionSilver = dfSessionSilver.withColumn('UPDATE_D_TIME',lit(datetime.datetime.now().astimezone(timezone('Etc/GMT+3')).strftime('%Y-%m-%d %H:%M:%S.%f')).cast(\"timestamp\"))\n",
    "\n",
    "dfStudentFSubSilver = dfStudentFSubSilver.withColumn('UPDATE_D_TIME',lit(datetime.datetime.now().astimezone(timezone('Etc/GMT+3')).strftime('%Y-%m-%d %H:%M:%S.%f')).cast(\"timestamp\"))\n",
    "\n",
    "dfStudentSilver = dfStudentSilver.withColumn('UPDATE_D_TIME',lit(datetime.datetime.now().astimezone(timezone('Etc/GMT+3')).strftime('%Y-%m-%d %H:%M:%S.%f')).cast(\"timestamp\"))\n",
    "\n",
    "dfSubjectsSilver = dfSubjectsSilver.withColumn('UPDATE_D_TIME',lit(datetime.datetime.now().astimezone(timezone('Etc/GMT+3')).strftime('%Y-%m-%d %H:%M:%S.%f')).cast(\"timestamp\"))\n",
    "\n",
    "dfSubscripSilver = dfSubscripSilver.withColumn('UPDATE_D_TIME',lit(datetime.datetime.now().astimezone(timezone('Etc/GMT+3')).strftime('%Y-%m-%d %H:%M:%S.%f')).cast(\"timestamp\"))\n",
    "\n",
    "dfUniversitiesSilver = dfUniversitiesSilver.withColumn('UPDATE_D_TIME',lit(datetime.datetime.now().astimezone(timezone('Etc/GMT+3')).strftime('%Y-%m-%d %H:%M:%S.%f')).cast(\"timestamp\"))"
   ]
  },
  {
   "cell_type": "markdown",
   "metadata": {},
   "source": [
    "# Escrevendo os dados tratados/refinados na camada silver do Delta Lake"
   ]
  },
  {
   "cell_type": "code",
   "execution_count": 16,
   "metadata": {},
   "outputs": [],
   "source": [
    "dfCoursesSilver.write.format(\"delta\").mode(\"overwrite\").save(deltaSilverCourses+current_date)\n",
    "\n",
    "dfSessionSilver.write.format(\"delta\").mode(\"overwrite\").save(deltaSilverSession+current_date)\n",
    "\n",
    "dfStudentFSubSilver.write.format(\"delta\").mode(\"overwrite\").save(deltaSilverStudentFSub+current_date)\n",
    "\n",
    "dfStudentSilver.write.format(\"delta\").mode(\"overwrite\").save(deltaSilverStudent+current_date)\n",
    "\n",
    "dfSubjectsSilver.write.format(\"delta\").mode(\"overwrite\").save(deltaSilverSubjects+current_date)\n",
    "\n",
    "dfSubscripSilver.write.format(\"delta\").mode(\"overwrite\").save(deltaSilverSubscrip+current_date)\n",
    "\n",
    "dfUniversitiesSilver.write.format(\"delta\").mode(\"overwrite\").save(deltaSilverUniversities+current_date)"
   ]
  },
  {
   "cell_type": "markdown",
   "metadata": {},
   "source": [
    "# Carregamento dos dados da camada Silver para criação da View Gold(Produção)"
   ]
  },
  {
   "cell_type": "code",
   "execution_count": 17,
   "metadata": {},
   "outputs": [],
   "source": [
    "dfCoursesSilver = spark.read.format(\"delta\").load(deltaSilverCourses+current_date).withColumnRenamed(\"Id\",'CourseId').withColumnRenamed('Name','CourseName')\n",
    "\n",
    "dfSessionSilver = spark.read.format(\"delta\").load(deltaSilverSession+current_date)\n",
    "\n",
    "dfStudentFSubSilver = spark.read.format(\"delta\").load(deltaSilverStudentFSub+current_date)\n",
    "\n",
    "dfStudentSilver = spark.read.format(\"delta\").load(deltaSilverStudent+current_date)\n",
    "\n",
    "dfSubjectsSilver = spark.read.format(\"delta\").load(deltaSilverSubjects+current_date)\n",
    "\n",
    "dfSubscripSilver = spark.read.format(\"delta\").load(deltaSilverSubscrip+current_date)\n",
    "\n",
    "dfUniversitiesSilver = spark.read.format(\"delta\").load(deltaSilverUniversities+current_date).withColumnRenamed(\"Id\",'UniversityId').withColumnRenamed('Name','UniversityName')"
   ]
  },
  {
   "cell_type": "markdown",
   "metadata": {},
   "source": [
    "# Join dos dataframes em uma tabela única"
   ]
  },
  {
   "cell_type": "code",
   "execution_count": 18,
   "metadata": {},
   "outputs": [],
   "source": [
    "dfGoldReviews = dfStudentSilver.join(dfCoursesSilver, on=[\"CourseId\"])\\\n",
    "                                .join(dfUniversitiesSilver, on=[\"UniversityId\"])\\\n",
    "                                .join(dfSubscripSilver, col(\"Id\") == col(\"StudentId\"))\\\n",
    "                                .join(dfSessionSilver, (col(\"Id\") == dfSessionSilver.StudentId) & (dfStudentSilver.StudentClient == dfSessionSilver.StudentClient), how=\"inner\")\\\n",
    "                                .join(dfStudentFSubSilver.join(dfSubjectsSilver, col(\"SubjectId\") == col(\"Id\")).select(dfSubjectsSilver.Id,\"Name\", \"FollowDate\").withColumnRenamed(\"Name\",'SubjectName'))\\\n",
    "                                .select(dfStudentSilver.Id, \"UniversityName\", \"CourseName\", \"RegisteredDate\", \"City\", \"State\", \"SessionStartTime\",\"FollowDate\",\"SubjectName\", dfSessionSilver.StudentClient, \"SignupSource\", \"PlanType\", \"PaymentDate\")\\\n",
    "                                .withColumnRenamed(\"Id\",'StudentId')"
   ]
  },
  {
   "cell_type": "code",
   "execution_count": 59,
   "metadata": {},
   "outputs": [
    {
     "name": "stdout",
     "output_type": "stream",
     "text": [
      "+---------+\n",
      "|StudentId|\n",
      "+---------+\n",
      "+---------+\n",
      "\n"
     ]
    }
   ],
   "source": [
    "dfGoldReviews.select(\"StudentId\").filter(col(\"StudentId\") == '34cbeaf4a28c798de94cd9afb43d4e2e49ce80d6b52364e097371db586d4ea48').show(10, truncate=False)"
   ]
  },
  {
   "cell_type": "markdown",
   "metadata": {},
   "source": [
    "\n",
    "# Escrevendo o dado tratado com join na camada Gold"
   ]
  },
  {
   "cell_type": "code",
   "execution_count": 19,
   "metadata": {},
   "outputs": [],
   "source": [
    "#dfGoldReviews.write.format(\"delta\").mode(\"overwrite\").save(pathGoldReview+current_date)"
   ]
  },
  {
   "cell_type": "markdown",
   "metadata": {},
   "source": [
    "# 2ª Parte"
   ]
  },
  {
   "cell_type": "markdown",
   "metadata": {},
   "source": [
    "# Path arquivos Json Event Page View particionado"
   ]
  },
  {
   "cell_type": "code",
   "execution_count": 20,
   "metadata": {},
   "outputs": [],
   "source": [
    "pahJsonEventPageView = 'RAW_DATA/EVENTPAGEVIEW/EVENTPAGEVIEW_DT='"
   ]
  },
  {
   "cell_type": "code",
   "execution_count": 21,
   "metadata": {},
   "outputs": [],
   "source": [
    "dfEventPageView = spark.read.json(pahJsonEventPageView+current_date)"
   ]
  },
  {
   "cell_type": "code",
   "execution_count": 52,
   "metadata": {},
   "outputs": [
    {
     "name": "stdout",
     "output_type": "stream",
     "text": [
      "+------------+\n",
      "|session_uuid|\n",
      "+------------+\n",
      "+------------+\n",
      "\n"
     ]
    }
   ],
   "source": [
    "#dfEventPageView\\\n",
    "#.select(\"Last Accessed Url\", \"marketing_campaign\", 'marketing_medium', \"marketing_source\", 'session_uuid')\\\n",
    "#.where(col(\"marketing_campaign\").isNotNull()).show()\n",
    "\n",
    "\n",
    "dfEventPageView\\\n",
    ".select(\"session_uuid\").filter(col(\"session_uuid\") =='56c9afc0946a2324b76ac9e590de1281f1e2a9187a638df8cc6c86030def6409').show()"
   ]
  },
  {
   "cell_type": "markdown",
   "metadata": {},
   "source": [
    "Infelimente não consegui achar um campo igual - Uma relação entre as duas bases - nos dois dataframes para fazer Join e também não obtive sucesso no comando union(na expectativa de unir/concatenar os dois dataframes, sem um campo em comum)"
   ]
  },
  {
   "cell_type": "code",
   "execution_count": 27,
   "metadata": {},
   "outputs": [
    {
     "name": "stdout",
     "output_type": "stream",
     "text": [
      "root\n",
      " |-- Last Accessed Url: string (nullable = true)\n",
      " |-- Page Category: string (nullable = true)\n",
      " |-- Page Category 1: string (nullable = true)\n",
      " |-- Page Category 2: string (nullable = true)\n",
      " |-- Page Category 3: string (nullable = true)\n",
      " |-- Page Name: string (nullable = true)\n",
      " |-- at: string (nullable = true)\n",
      " |-- browser: string (nullable = true)\n",
      " |-- carrier: string (nullable = true)\n",
      " |-- city_name: string (nullable = true)\n",
      " |-- clv_total: long (nullable = true)\n",
      " |-- country: string (nullable = true)\n",
      " |-- custom_1: string (nullable = true)\n",
      " |-- custom_2: string (nullable = true)\n",
      " |-- custom_3: string (nullable = true)\n",
      " |-- custom_4: string (nullable = true)\n",
      " |-- device_new: boolean (nullable = true)\n",
      " |-- first-accessed-page: string (nullable = true)\n",
      " |-- install_uuid: string (nullable = true)\n",
      " |-- language: string (nullable = true)\n",
      " |-- library_ver: string (nullable = true)\n",
      " |-- marketing_campaign: string (nullable = true)\n",
      " |-- marketing_medium: string (nullable = true)\n",
      " |-- marketing_source: string (nullable = true)\n",
      " |-- model: string (nullable = true)\n",
      " |-- name: string (nullable = true)\n",
      " |-- nth: long (nullable = true)\n",
      " |-- os_ver: string (nullable = true)\n",
      " |-- platform: string (nullable = true)\n",
      " |-- region: string (nullable = true)\n",
      " |-- session_uuid: string (nullable = true)\n",
      " |-- studentId_clientType: string (nullable = true)\n",
      " |-- type: string (nullable = true)\n",
      " |-- user_type: string (nullable = true)\n",
      " |-- uuid: string (nullable = true)\n",
      "\n"
     ]
    }
   ],
   "source": [
    "dfEventPageView.printSchema()"
   ]
  },
  {
   "cell_type": "code",
   "execution_count": 73,
   "metadata": {},
   "outputs": [
    {
     "name": "stdout",
     "output_type": "stream",
     "text": [
      "+------------------------------------------------------------------------+\n",
      "|studentId_clientType                                                    |\n",
      "+------------------------------------------------------------------------+\n",
      "|34cbeaf4a28c798de94cd9afb43d4e2e49ce80d6b52364e097371db586d4ea48@Website|\n",
      "|23fa8b361cc7ea61dea852d72eba9129f05981077e1f65f9241ddd62c2aa4b97@Website|\n",
      "|14cc805c72b0eec6292916da59c9c45a8aa621a1138eb6959e49362844d47c40@Website|\n",
      "|98774aeb803eb08e08020309fe8472af79033fbae26ea4282071f6555909599e@Webapp |\n",
      "|122ac90aee4fc73660620456712cfea98d7bd720a1fc7193010d902848859912@Website|\n",
      "|d799aecbb0a87cdd5412c68172189cc65d84644ac26e34e72bbc2cc07117eee8@Website|\n",
      "|ca122c896b84fa32f750f95c9c163d3e1146c63e24f2ddf816467b0978c07d4c@Website|\n",
      "|e1b0981e40fdef0c39b9e1442ca23aa10eceaee7f1013e98707b8b43416660aa@Website|\n",
      "|859fa6b0af443a290eb97b19cc3e16eeea37cc60c05a5d35e6b880481a23e2c9@Webapp |\n",
      "|344262de5df32d62ccd1592dfd9aa073a584d0fdd1f16455efe8bd82770b28c9@Website|\n",
      "|249fc56e53f8e9218dad8667c0b808d0834c5adf56e501130c07c3ba7942e7a2@Website|\n",
      "|dd16982f641501ad9a1eb9cac0e717d81a1cea8301be1234760b1044acc21a43@Website|\n",
      "|235399080e00a71d61bf0c5d31d7cca47705d7ce0f606d105cdc52a4e1038e20@Website|\n",
      "|3b153bc5d007af5cdd9051d939921a48cb6e0948b42de542a1b01bf295fdd431@Website|\n",
      "|194438a316498c383dbeaec25dad44c7f5e1d71841fa5896155a17afaabd2c49@Website|\n",
      "|bd005da77055ace64842ca4988a54d9a7697fe485e81967fad4dd85f7e47e743@Website|\n",
      "|d25a0cd2a0a7c68fd73d9cf52ce9a40912b0973e7ed7ef6adb0a40a044897833@Website|\n",
      "|7cedf443bd86dbc30c909f67ea2234dfdd88ca301ee5fd81869929b5ae4dfd76@Website|\n",
      "|46fc05e39f8946565a312fc6ad4be9c8fea3e0f7da83b98db309e3ab319311d7@Website|\n",
      "|cc68b15d84a8e858b1dce58bbb6dd2c3731d074c491349ff47051423a4b57238@Website|\n",
      "+------------------------------------------------------------------------+\n",
      "only showing top 20 rows\n",
      "\n"
     ]
    }
   ],
   "source": [
    "dfEventPageView.select('studentId_clientType').show(truncate=False)"
   ]
  },
  {
   "cell_type": "code",
   "execution_count": 62,
   "metadata": {},
   "outputs": [
    {
     "name": "stdout",
     "output_type": "stream",
     "text": [
      "+----------------------------------------+\n",
      "|session_uuid                            |\n",
      "+----------------------------------------+\n",
      "|188031bec37fc43b737c2c49349076700ae89128|\n",
      "|e3fe75ffce700fef07fd93e66312117ba008f046|\n",
      "|e0841700c23ea9aaadf1104690e7d6e12a8a771a|\n",
      "|318775acadbb0c72430ac2eeb05782589fbd1cf7|\n",
      "|91bf1fbddb681569c914a8bb05fa0e260d9d92bd|\n",
      "|d52b6c4881b52297521463e789d6721cb85e08b6|\n",
      "|af9ab1ed319a1a8a62dc6e39638c7ee743340eb7|\n",
      "|74c44cbf080da372d3f63ae61bd67ed006f1a2a6|\n",
      "|0bf547c5ac802a0e0b3e28b8d5e012066fafa9d6|\n",
      "|943ba5d00ab9607eb2979618e11c10ccec1a17dd|\n",
      "|e79a1f3f047ebb8e427b0daae9cb69c513da97b6|\n",
      "|72cfe273a58f954f9724839a4a49653ad1b1b0ea|\n",
      "|ffdcc11a10bcc9489d59e7c31fac28af3cc7891b|\n",
      "|ed965bcac88fad54b01cb8dad8cce2a2deb7ed4f|\n",
      "|11a92cb247234ef8cad504cfc3817243a5726efa|\n",
      "|bdba1aa54b7eccd61d3af87d38d6462f8ead4363|\n",
      "|03c78e9f0944930b9c82f6319f371af3192606f6|\n",
      "|4fd576c03ee8c335759f127c112f6da2c8b052b0|\n",
      "|547f44b389a3144877bea971247d350cb447a8e7|\n",
      "|599d273bb3fba56cf344d6a28656a63c48667073|\n",
      "+----------------------------------------+\n",
      "only showing top 20 rows\n",
      "\n"
     ]
    }
   ],
   "source": [
    "dfEventPageView.select(\"session_uuid\").show(truncate=False)\n",
    "\n",
    "#.filter(col(\"uuid\") =='56c9afc0946a2324b76ac9e590de1281f1e2a9187a638df8cc6c86030def6409').show()"
   ]
  },
  {
   "cell_type": "code",
   "execution_count": null,
   "metadata": {},
   "outputs": [],
   "source": []
  },
  {
   "cell_type": "code",
   "execution_count": 63,
   "metadata": {},
   "outputs": [
    {
     "name": "stdout",
     "output_type": "stream",
     "text": [
      "root\n",
      " |-- SessionStartTime: string (nullable = true)\n",
      " |-- StudentClient: string (nullable = true)\n",
      " |-- StudentId: string (nullable = true)\n",
      " |-- UPDATE_D_TIME: timestamp (nullable = true)\n",
      "\n"
     ]
    }
   ],
   "source": [
    "dfSessionSilver.printSchema()"
   ]
  },
  {
   "cell_type": "code",
   "execution_count": 65,
   "metadata": {},
   "outputs": [
    {
     "name": "stdout",
     "output_type": "stream",
     "text": [
      "+-------------------+-------------+--------------------+--------------------+\n",
      "|   SessionStartTime|StudentClient|           StudentId|       UPDATE_D_TIME|\n",
      "+-------------------+-------------+--------------------+--------------------+\n",
      "|2017-11-01 00:04:27|      Android|f074f589b7f97a623...|2021-01-17 02:09:...|\n",
      "|2017-11-01 00:21:18|      Android|540b82f637b0b1545...|2021-01-17 02:09:...|\n",
      "|2017-11-01 01:28:56|      Website|fb3b99ecf669b03a0...|2021-01-17 02:09:...|\n",
      "|2017-11-01 02:35:06|      Website|ab0545de63c1338ca...|2021-01-17 02:09:...|\n",
      "|2017-11-01 03:15:14|          iOS|2d5713d4d43e29734...|2021-01-17 02:09:...|\n",
      "|2017-11-01 08:00:27|      Website|0bda2af855c4bd084...|2021-01-17 02:09:...|\n",
      "|2017-11-01 10:33:31|      Android|557d9b9337b221096...|2021-01-17 02:09:...|\n",
      "|2017-11-01 10:52:29|      Website|533f7ba93a7ed5eb3...|2021-01-17 02:09:...|\n",
      "|2017-11-01 11:46:03|      Website|2f77b382c77931871...|2021-01-17 02:09:...|\n",
      "|2017-11-01 13:27:46|      Website|095cd3e757be276dd...|2021-01-17 02:09:...|\n",
      "|2017-11-01 14:45:58|      Android|84af8812c17c8ca0d...|2021-01-17 02:09:...|\n",
      "|2017-11-01 15:15:37|      Website|303e7473fc64f16b6...|2021-01-17 02:09:...|\n",
      "|2017-11-01 15:48:03|      Website|29fd4c6c2a55fcdbc...|2021-01-17 02:09:...|\n",
      "|2017-11-01 16:03:18|      Website|53b391f3987e04ed9...|2021-01-17 02:09:...|\n",
      "|2017-11-01 16:13:10|      Website|b2b4a12ae0a7b759d...|2021-01-17 02:09:...|\n",
      "|2017-11-01 16:24:04|      Android|db5cfd8ffde67e4b3...|2021-01-17 02:09:...|\n",
      "|2017-11-01 16:30:12|      Android|1eae9160819c4ced6...|2021-01-17 02:09:...|\n",
      "|2017-11-01 17:10:43|      Website|dc3d2ab815e781a9c...|2021-01-17 02:09:...|\n",
      "|2017-11-01 17:10:58|      Website|3b1094be72bb09181...|2021-01-17 02:09:...|\n",
      "|2017-11-01 17:24:26|      Website|0654d31f52a9aab4a...|2021-01-17 02:09:...|\n",
      "+-------------------+-------------+--------------------+--------------------+\n",
      "only showing top 20 rows\n",
      "\n"
     ]
    }
   ],
   "source": [
    "dfSessionSilver.show()"
   ]
  },
  {
   "cell_type": "code",
   "execution_count": 66,
   "metadata": {},
   "outputs": [
    {
     "name": "stdout",
     "output_type": "stream",
     "text": [
      "root\n",
      " |-- City: string (nullable = true)\n",
      " |-- CourseId: long (nullable = true)\n",
      " |-- Id: string (nullable = true)\n",
      " |-- RegisteredDate: string (nullable = true)\n",
      " |-- SignupSource: string (nullable = true)\n",
      " |-- State: string (nullable = true)\n",
      " |-- StudentClient: string (nullable = true)\n",
      " |-- UniversityId: long (nullable = true)\n",
      " |-- UPDATE_D_TIME: timestamp (nullable = true)\n",
      "\n"
     ]
    }
   ],
   "source": [
    "dfStudentSilver.printSchema()"
   ]
  },
  {
   "cell_type": "code",
   "execution_count": 82,
   "metadata": {},
   "outputs": [
    {
     "name": "stdout",
     "output_type": "stream",
     "text": [
      "+----+--------+---+--------------+------------+-----+-------------+------------+-------------+\n",
      "|City|CourseId|Id |RegisteredDate|SignupSource|State|StudentClient|UniversityId|UPDATE_D_TIME|\n",
      "+----+--------+---+--------------+------------+-----+-------------+------------+-------------+\n",
      "+----+--------+---+--------------+------------+-----+-------------+------------+-------------+\n",
      "\n"
     ]
    }
   ],
   "source": [
    "dfStudentSilver.filter(col('Id') == '859fa6b0af443a290eb97b19cc3e16eeea37cc60c05a5d35e6b880481a23e2c9').show(truncate=False)"
   ]
  },
  {
   "cell_type": "code",
   "execution_count": 83,
   "metadata": {},
   "outputs": [
    {
     "name": "stdout",
     "output_type": "stream",
     "text": [
      "+----------------------------------------------------------------+\n",
      "|Id                                                              |\n",
      "+----------------------------------------------------------------+\n",
      "|00bc26f661c60bc4c4979feff681e7f8d11a8dac3222abeb74d163975ea8a3cc|\n",
      "|01506b8c83f5904dff93fa9352faecbc27475dafab5e188e45d2522bb70dea37|\n",
      "|020e02dea8d4161981569f69bd1785e032392dd4ff3c72ef5bdb92fb24a5daaa|\n",
      "|021b9add9332d89d62fa0c49148850583cdbb2f99ed2e18414e2d1da4b28314e|\n",
      "|03921d1e2e7dd284f493d2be97b70dcf84a7e1b1c8caf0f60d371a1f53dfd026|\n",
      "|05793dfde79694ab9b70dd442e842a52f1ba834d9fdf7c928ad3a056c668b56e|\n",
      "|058f4f62371b9c8260ae796dd4f2806ea15fca76bdf5f26a06e04031e7516154|\n",
      "|05e1e243cf854530b23d31669e4ba84dd71f25c61888aa5bbf6750a3445360c1|\n",
      "|070ce5e60ccab87066866854622ced32ece1806270a971d5c8e98a8f6eafac87|\n",
      "|085ea7b2bd54b42a718e09a8c5686599ec65ac4cdcb96256dc54d0f1744b0af6|\n",
      "|0949051ccf4252c0e91928be98204dc4eaf4bf43648d8a3e703cf7e8f6cf325c|\n",
      "|0995ece82a5987427130492c1a888b5f2b3e638acd1c940b703681490d3ff14a|\n",
      "|0a1a1ca2f16476f259ea73f4ae52158eeaaccb23e646224f844f4a0dfd3b34cf|\n",
      "|0ba7bb59f9113b2d3ddc402291d204d1e495cc5e0c21525af503537e5fe7e153|\n",
      "|0c55fccf37c079a5c8e2fb74ec762f60286735816ce84bb1a1b7510726be126b|\n",
      "|0ea65698eb1d843f99bd988238c399a7992c9b14d0ca3ec9e6ed95f1c43bf603|\n",
      "|0ee91dae9df670e1634ef877fbc427db454dcf678d9408b7756fdc89e99d155d|\n",
      "|1073c1c309f108589b777f7b11867d32ac717d51fe2b4e44acbe0083122e26ff|\n",
      "|109b7c9626891e78de4fe2cbb59dcb2b37e6dfccc17be8d54dd1954da6c36cca|\n",
      "|1226cfb070d4648bbc2fa1d80b3bddd981695e25393d37707ae66af52da1c6b0|\n",
      "+----------------------------------------------------------------+\n",
      "only showing top 20 rows\n",
      "\n"
     ]
    }
   ],
   "source": [
    "dfStudentSilver.select('Id').show(truncate=False)"
   ]
  },
  {
   "cell_type": "code",
   "execution_count": 88,
   "metadata": {},
   "outputs": [
    {
     "name": "stdout",
     "output_type": "stream",
     "text": [
      "+------------+\n",
      "|session_uuid|\n",
      "+------------+\n",
      "+------------+\n",
      "\n"
     ]
    }
   ],
   "source": [
    "dfEventPageView.select('session_uuid').where(\"session_uuid like '%1226cfb070d4648bbc2fa1d80b3bddd981695e25393d37707ae66af52da1c6b0%'\").show(truncate=False)"
   ]
  },
  {
   "cell_type": "code",
   "execution_count": 85,
   "metadata": {},
   "outputs": [
    {
     "name": "stdout",
     "output_type": "stream",
     "text": [
      "+--------------------+\n",
      "|studentId_clientType|\n",
      "+--------------------+\n",
      "+--------------------+\n",
      "\n"
     ]
    }
   ],
   "source": [
    "dfEventPageView.select('studentId_clientType').where(\"studentId_clientType like '%00bc26f661c60bc4c4979feff681e7f8d11a8dac3222abeb74d163975ea8a3cc%'\").show(truncate=False)"
   ]
  },
  {
   "cell_type": "code",
   "execution_count": null,
   "metadata": {},
   "outputs": [],
   "source": [
    "dfTeste = dfEventPageView.union(dfGoldReviews)"
   ]
  },
  {
   "cell_type": "code",
   "execution_count": 86,
   "metadata": {},
   "outputs": [
    {
     "name": "stdout",
     "output_type": "stream",
     "text": [
      "+----------------------------------------+\n",
      "|session_uuid                            |\n",
      "+----------------------------------------+\n",
      "|188031bec37fc43b737c2c49349076700ae89128|\n",
      "|e3fe75ffce700fef07fd93e66312117ba008f046|\n",
      "|e0841700c23ea9aaadf1104690e7d6e12a8a771a|\n",
      "|318775acadbb0c72430ac2eeb05782589fbd1cf7|\n",
      "|91bf1fbddb681569c914a8bb05fa0e260d9d92bd|\n",
      "|d52b6c4881b52297521463e789d6721cb85e08b6|\n",
      "|af9ab1ed319a1a8a62dc6e39638c7ee743340eb7|\n",
      "|74c44cbf080da372d3f63ae61bd67ed006f1a2a6|\n",
      "|0bf547c5ac802a0e0b3e28b8d5e012066fafa9d6|\n",
      "|943ba5d00ab9607eb2979618e11c10ccec1a17dd|\n",
      "|e79a1f3f047ebb8e427b0daae9cb69c513da97b6|\n",
      "|72cfe273a58f954f9724839a4a49653ad1b1b0ea|\n",
      "|ffdcc11a10bcc9489d59e7c31fac28af3cc7891b|\n",
      "|ed965bcac88fad54b01cb8dad8cce2a2deb7ed4f|\n",
      "|11a92cb247234ef8cad504cfc3817243a5726efa|\n",
      "|bdba1aa54b7eccd61d3af87d38d6462f8ead4363|\n",
      "|03c78e9f0944930b9c82f6319f371af3192606f6|\n",
      "|4fd576c03ee8c335759f127c112f6da2c8b052b0|\n",
      "|547f44b389a3144877bea971247d350cb447a8e7|\n",
      "|599d273bb3fba56cf344d6a28656a63c48667073|\n",
      "+----------------------------------------+\n",
      "only showing top 20 rows\n",
      "\n"
     ]
    }
   ],
   "source": [
    "dfEventPageView.select('session_uuid').show(truncate=False)"
   ]
  }
 ],
 "metadata": {
  "kernelspec": {
   "display_name": "Python 3",
   "language": "python",
   "name": "python3"
  },
  "language_info": {
   "codemirror_mode": {
    "name": "ipython",
    "version": 3
   },
   "file_extension": ".py",
   "mimetype": "text/x-python",
   "name": "python",
   "nbconvert_exporter": "python",
   "pygments_lexer": "ipython3",
   "version": "3.7.3"
  }
 },
 "nbformat": 4,
 "nbformat_minor": 4
}
